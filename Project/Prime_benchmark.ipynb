{
 "cells": [
  {
   "cell_type": "markdown",
   "id": "2ff9857d-4529-4a3b-8a89-443cb0377612",
   "metadata": {},
   "source": [
    "# Imports"
   ]
  },
  {
   "cell_type": "code",
   "execution_count": 1,
   "id": "0e539718",
   "metadata": {},
   "outputs": [],
   "source": [
    "import numpy\n",
    "import itertools\n",
    "from sympy import primerange"
   ]
  },
  {
   "cell_type": "markdown",
   "id": "e6c55af1-2cd2-43fb-ab02-c4a4582d5970",
   "metadata": {},
   "source": [
    "## Prime Number Generation"
   ]
  },
  {
   "cell_type": "code",
   "execution_count": 2,
   "id": "1f0d00f9",
   "metadata": {},
   "outputs": [],
   "source": [
    "# Sieve of Eratosthenes\n",
    "def sieve_of_eratosthenes(k):\n",
    "    prime_numbers = []  # List to store prime numbers\n",
    "    n = 2  # Start with the first prime number\n",
    "    \n",
    "    while len(prime_numbers) < k:\n",
    "        is_prime = True  # Assume n is prime initially\n",
    "        \n",
    "        # Check if n is divisible by any previous prime number\n",
    "        for prime in prime_numbers:\n",
    "            if n % prime == 0:\n",
    "                is_prime = False\n",
    "                break\n",
    "        \n",
    "        if is_prime:\n",
    "            prime_numbers.append(n)  # Add n to the list of prime numbers\n",
    "        \n",
    "        n += 1  # Move to the next number\n",
    "        \n",
    "    return prime_numbers\n",
    "\n"
   ]
  },
  {
   "cell_type": "code",
   "execution_count": 3,
   "id": "18a257d0",
   "metadata": {},
   "outputs": [],
   "source": [
    "# Croft's Spiral Sieve\n",
    "def croft():\n",
    "    # Implementation is based on erat3 from here:\n",
    "    #   http://stackoverflow.com/q/2211990\n",
    "    # and this website:\n",
    "    #   http://www.primesdemystified.com/\n",
    "    # Memory usage increases roughly linearly with the number of primes seen.\n",
    "    # dict ``roots`` stores an entry p**2:p for every prime p.\n",
    "    for p in (2, 3, 5):\n",
    "        yield p\n",
    "    roots = {9: 3, 25: 5}  # Map d**2 -> d.\n",
    "    primeroots = frozenset((1, 7, 11, 13, 17, 19, 23, 29))\n",
    "    selectors = (1, 0, 1, 1, 0, 1, 1, 0, 1, 0, 0, 1, 1, 0, 0)\n",
    "    for q in itertools.compress(\n",
    "            # Iterate over prime candidates 7, 9, 11, 13, ...\n",
    "            itertools.islice(itertools.count(7), 0, None, 2),\n",
    "            # Mask out those that can't possibly be prime.\n",
    "            itertools.cycle(selectors)\n",
    "    ):\n",
    "        # Using dict membership testing instead of pop gives a\n",
    "        # 5-10% speedup over the first three million primes.\n",
    "        if q in roots:\n",
    "            p = roots[q]\n",
    "            del roots[q]\n",
    "            x = q + 2*p\n",
    "            while x in roots or (x % 30) not in primeroots:\n",
    "                x += 2*p\n",
    "            roots[x] = p\n",
    "        else:\n",
    "\n",
    "            roots[q*q] = q\n",
    "            yield q\n",
    "    pass\n",
    "\n",
    "def primes_list(limit):\n",
    "    croft_gen = croft()\n",
    "    return [next(croft_gen) for _ in range(limit)]\n"
   ]
  },
  {
   "cell_type": "code",
   "execution_count": 4,
   "id": "cefaf0bb",
   "metadata": {},
   "outputs": [],
   "source": [
    "# Using primerange from sympy\n",
    "def sympy_prime(k):\n",
    "    return list(primerange(1, k))"
   ]
  },
  {
   "cell_type": "markdown",
   "id": "d1037efb-84a7-4823-b434-d9fd81ccba46",
   "metadata": {},
   "source": [
    "### Timing the prime number generation"
   ]
  },
  {
   "cell_type": "code",
   "execution_count": 5,
   "id": "a0fb19be",
   "metadata": {},
   "outputs": [
    {
     "name": "stdout",
     "output_type": "stream",
     "text": [
      "12.7 ms ± 31.1 µs per loop (mean ± std. dev. of 7 runs, 100 loops each)\n"
     ]
    }
   ],
   "source": [
    "%%timeit\n",
    "k = 1000  # Generate the first 10000 prime numbers \n",
    "primes_sieve = sieve_of_eratosthenes(k)"
   ]
  },
  {
   "cell_type": "code",
   "execution_count": 6,
   "id": "909115aa",
   "metadata": {},
   "outputs": [
    {
     "name": "stdout",
     "output_type": "stream",
     "text": [
      "481 µs ± 4.73 µs per loop (mean ± std. dev. of 7 runs, 1,000 loops each)\n"
     ]
    }
   ],
   "source": [
    "%%timeit\n",
    "k = 1000  # Generate the first 10000 prime numbers \n",
    "primes_croft = primes_list(k)"
   ]
  },
  {
   "cell_type": "code",
   "execution_count": 7,
   "id": "98dc2063",
   "metadata": {},
   "outputs": [
    {
     "name": "stdout",
     "output_type": "stream",
     "text": [
      "202 µs ± 770 ns per loop (mean ± std. dev. of 7 runs, 1,000 loops each)\n"
     ]
    }
   ],
   "source": [
    "%%timeit\n",
    "k = 1000 \n",
    "primes_sympy = sympy_prime(k)"
   ]
  },
  {
   "cell_type": "markdown",
   "id": "0a255b74-998f-4204-9d18-cb144886885f",
   "metadata": {},
   "source": [
    "## Time Comparision for prime number generation\n",
    "\n",
    "k denotes the number of primes\n",
    "\n",
    "| Sr. No | k | Eratosthenes | Croft | Sympy |\n",
    "|:--:|:--------:|:--------:|:--------:|:--------:|\n",
    "| 1 |  100 | 132us       | 19.5us   | 17.7us     |\n",
    "| 2 | 1,000  | 10.8ms    | 416us   | 140us     |\n",
    "| 3 | 10,000  | 1.02s    | 6.59ms   | 1.8ms     |\n",
    "| 4 | 50,000  | 25.8s    | 59.9ms   | 24.3ms     |\n",
    "| 5 | 100,000  | 98s    | 112ms   | 51ms     |\n",
    "| 6 | 125,000  | 169s    | 151ms   | 67.7ms     |\n",
    "| 7 | 150,000  | 242s    | 180us   | 82.7ms     |"
   ]
  },
  {
   "cell_type": "markdown",
   "id": "b32850d0-101e-4612-aa75-a9d535235a93",
   "metadata": {},
   "source": [
    "## Implementing Computation Algorithms"
   ]
  },
  {
   "cell_type": "code",
   "execution_count": 8,
   "id": "db64b6a7",
   "metadata": {},
   "outputs": [],
   "source": [
    "# Algorithm-1\n",
    "def algo1(pl): # pl is list of primes\n",
    "    sum_fact = 0  # Sum of factorials\n",
    "    fact_num = 1  # Factorial\n",
    "    for i in range(2, pl[-1]+1):\n",
    "        fact_num *= (i-1)\n",
    "        sum_fact += fact_num**2\n",
    "        if i in pl and sum_fact % i == 0:\n",
    "            print(True, i) # Print the result as soon as we get the required p\n",
    "            \n",
    "    #print(\"Search Concluded.\")"
   ]
  },
  {
   "cell_type": "code",
   "execution_count": 9,
   "id": "cd92b422",
   "metadata": {},
   "outputs": [],
   "source": [
    "# Algorithm-2\n",
    "def algo2(pl): # pl is list of primes\n",
    "    sum_fact = 0  # Sum of factorials\n",
    "    fact_num = 1  # Factorial\n",
    "    for i in range(2, pl[-1]+1):\n",
    "        fact_num *= (i-1)**2\n",
    "        sum_fact += fact_num\n",
    "        if i in pl and sum_fact % i == 0:\n",
    "            print(True, i) # Print the result as soon as we get the required p\n",
    "            \n",
    "    #print(\"Search Concluded.\")"
   ]
  },
  {
   "cell_type": "code",
   "execution_count": 11,
   "id": "e9e602a9",
   "metadata": {
    "scrolled": true
   },
   "outputs": [],
   "source": [
    "n=1000\n",
    "_ = primes_list(n)"
   ]
  },
  {
   "cell_type": "markdown",
   "id": "0648f80a-0000-4031-9b40-4952b478bc69",
   "metadata": {},
   "source": [
    "## Timing the two algorithms"
   ]
  },
  {
   "cell_type": "code",
   "execution_count": 12,
   "id": "6dc102e6",
   "metadata": {},
   "outputs": [
    {
     "name": "stdout",
     "output_type": "stream",
     "text": [
      "4.72 s ± 28.4 ms per loop (mean ± std. dev. of 7 runs, 1 loop each)\n"
     ]
    }
   ],
   "source": [
    "%%timeit\n",
    "algo1(_)"
   ]
  },
  {
   "cell_type": "code",
   "execution_count": 13,
   "id": "774c590b",
   "metadata": {
    "scrolled": true
   },
   "outputs": [
    {
     "name": "stdout",
     "output_type": "stream",
     "text": [
      "117 ms ± 312 µs per loop (mean ± std. dev. of 7 runs, 10 loops each)\n"
     ]
    }
   ],
   "source": [
    "%%timeit\n",
    "algo2(_)"
   ]
  },
  {
   "cell_type": "markdown",
   "id": "45e68818-0032-4ad8-8f22-4b1a21973e0d",
   "metadata": {},
   "source": [
    "## Time Comparision for algorithm run-times\n",
    "\n",
    "k denotes the number of primes\n",
    "\n",
    "| Sr. No | k | Algorithm-1 | Algorithm-2 |\n",
    "|:--:|:--------:|:--------:|:--------:|\n",
    "| 1 | 1000 | 4.72s  | 117ms|\n",
    "| 2 | 5,000  |  290s    | 2.51s   |\n",
    "| 3 | 10,000  | 2412s    | 13.5s   |\n",
    "| 4 | 15,000  | 8478s    | 34s   | \n",
    "| 5 | 16,384  | 10849s    | 45.2s   |\n",
    "| 6 | 25,000 | --- | 117s |\n",
    "| 7 | 50,000 | --- | 561s |\n",
    "| 8 | 75,000 | --- | 1651s |\n",
    "| 9 | 100,000 | --- | 51min 57s |\n",
    "| 10 | 125,000 | --- | 1h 22min 14s |\n",
    "| 11 | 150,000 | --- | 2h 8min 30s |\n"
   ]
  }
 ],
 "metadata": {
  "kernelspec": {
   "display_name": "Python 3 (ipykernel)",
   "language": "python",
   "name": "python3"
  },
  "language_info": {
   "codemirror_mode": {
    "name": "ipython",
    "version": 3
   },
   "file_extension": ".py",
   "mimetype": "text/x-python",
   "name": "python",
   "nbconvert_exporter": "python",
   "pygments_lexer": "ipython3",
   "version": "3.9.6"
  }
 },
 "nbformat": 4,
 "nbformat_minor": 5
}
